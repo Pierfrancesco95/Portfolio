{
 "cells": [
  {
   "cell_type": "markdown",
   "metadata": {},
   "source": [
    "# EARTHQUAKES IN CAMPI FLEGREI"
   ]
  },
  {
   "cell_type": "markdown",
   "metadata": {},
   "source": [
    "###  IMPORT LIBRARY"
   ]
  },
  {
   "cell_type": "code",
   "execution_count": 1,
   "metadata": {},
   "outputs": [],
   "source": [
    "import pandas as pd\n",
    "import numpy as np"
   ]
  },
  {
   "cell_type": "markdown",
   "metadata": {},
   "source": [
    "### FONTE DATI AGGIORNATI"
   ]
  },
  {
   "cell_type": "markdown",
   "metadata": {},
   "source": [
    "scaricare da qui i dati aggiornati: https://terremoti.ov.ingv.it/gossip/flegrei/index.html"
   ]
  },
  {
   "cell_type": "markdown",
   "metadata": {},
   "source": [
    "### IMPORT DATA"
   ]
  },
  {
   "cell_type": "code",
   "execution_count": 2,
   "metadata": {},
   "outputs": [],
   "source": [
    "# import dati anni dal 2000 al 2021\n",
    "\n",
    "df_2000_2021 = pd.read_csv('dataset\\dati_fle_2000_2021.csv')\n",
    "\n",
    "df_2000_2021 = df_2000_2021.reset_index()\n",
    "\n",
    "df_2000_2021 = df_2000_2021.rename(columns={\"index\": \"Time\",\n",
    "                                            \"Tempo origine (UTC)\": \"Magnitude\", \n",
    "                                            \"Magnitudo\": \"Latitude\", \n",
    "                                            \"Latitudine N\": \"Longitude\", \n",
    "                                            \"Longitudine E\": \"Depth/km\",  \n",
    "                                            \"Profondità (km)\": \"Note\"\n",
    "                                            })\n",
    "\n",
    "df_2000_2021 = df_2000_2021.drop('Note', axis=1)\n",
    "\n",
    "df_2000_2021 = df_2000_2021[['Time','Latitude','Longitude','Depth/km','Magnitude']]\n",
    "\n",
    "\n",
    "# import dati anni 2022\n",
    "\n",
    "df_2022 = pd.read_csv('dataset\\events 2022.csv')"
   ]
  },
  {
   "cell_type": "markdown",
   "metadata": {},
   "source": [
    "nominare \"events 2023.csv\" i dati aggioranti e salvarli nella cartella \"dataset\""
   ]
  },
  {
   "cell_type": "code",
   "execution_count": 3,
   "metadata": {},
   "outputs": [],
   "source": [
    "# import dati anni 2023\n",
    "\n",
    "df_2023 = pd.read_csv('dataset\\events 2023.csv')"
   ]
  },
  {
   "cell_type": "markdown",
   "metadata": {},
   "source": [
    "### JOIN DATA"
   ]
  },
  {
   "cell_type": "code",
   "execution_count": 4,
   "metadata": {},
   "outputs": [],
   "source": [
    "# creo un unico df che comprendere anni 2000-2023\n",
    "\n",
    "df = pd.concat([df_2022,df_2023])\n",
    "df = df.reset_index()\n",
    "df = df.drop('index', axis=1)\n",
    "\n",
    "df = df.drop(['#EventID','MagType','MagErr', 'Area', 'Type', 'Level'], axis=1)\n",
    "\n",
    "df = pd.concat([df,df_2000_2021])\n",
    "df = df.sort_values(by='Time')\n",
    "df = df.reset_index()\n",
    "df = df.drop('index', axis=1)"
   ]
  },
  {
   "cell_type": "markdown",
   "metadata": {},
   "source": [
    "### DATA CLEANING"
   ]
  },
  {
   "cell_type": "code",
   "execution_count": 5,
   "metadata": {},
   "outputs": [],
   "source": [
    "# convertion data type\n",
    "df['Time'] = df['Time'].str.replace('-','/')\n",
    "df['Time'] = pd.to_datetime(df['Time'],format='mixed')"
   ]
  },
  {
   "cell_type": "code",
   "execution_count": 6,
   "metadata": {},
   "outputs": [],
   "source": [
    "# create new columns\n",
    "df['year'] = df['Time'].dt.year\n",
    "df['month'] = df['Time'].dt.month\n",
    "\n",
    "# convertion data type\n",
    "df['year'] = df['year'].astype(str)\n",
    "df['month'] = df['month'].astype(str)"
   ]
  },
  {
   "cell_type": "code",
   "execution_count": 7,
   "metadata": {},
   "outputs": [],
   "source": [
    "# create new columns\n",
    "df['year_month']= pd.to_datetime(df.Time).dt.strftime('%Y/%m')\n",
    "df['date']= pd.to_datetime(df.Time).dt.strftime('%Y/%m/%d')"
   ]
  },
  {
   "cell_type": "markdown",
   "metadata": {},
   "source": [
    "### CHECK INFO DATA"
   ]
  },
  {
   "cell_type": "code",
   "execution_count": 8,
   "metadata": {},
   "outputs": [
    {
     "data": {
      "text/plain": [
       "(12550, 9)"
      ]
     },
     "execution_count": 8,
     "metadata": {},
     "output_type": "execute_result"
    }
   ],
   "source": [
    "df.shape"
   ]
  },
  {
   "cell_type": "code",
   "execution_count": 9,
   "metadata": {},
   "outputs": [
    {
     "data": {
      "text/html": [
       "<div>\n",
       "<style scoped>\n",
       "    .dataframe tbody tr th:only-of-type {\n",
       "        vertical-align: middle;\n",
       "    }\n",
       "\n",
       "    .dataframe tbody tr th {\n",
       "        vertical-align: top;\n",
       "    }\n",
       "\n",
       "    .dataframe thead th {\n",
       "        text-align: right;\n",
       "    }\n",
       "</style>\n",
       "<table border=\"1\" class=\"dataframe\">\n",
       "  <thead>\n",
       "    <tr style=\"text-align: right;\">\n",
       "      <th></th>\n",
       "      <th>Time</th>\n",
       "      <th>Latitude</th>\n",
       "      <th>Longitude</th>\n",
       "      <th>Depth/km</th>\n",
       "      <th>Magnitude</th>\n",
       "    </tr>\n",
       "  </thead>\n",
       "  <tbody>\n",
       "    <tr>\n",
       "      <th>0</th>\n",
       "      <td>2000-08-22 14:17:01.360</td>\n",
       "      <td>40.8258</td>\n",
       "      <td>14.1477</td>\n",
       "      <td>2.17</td>\n",
       "      <td>1.4</td>\n",
       "    </tr>\n",
       "    <tr>\n",
       "      <th>1</th>\n",
       "      <td>2000-08-22 15:05:56.840</td>\n",
       "      <td>40.8267</td>\n",
       "      <td>14.1487</td>\n",
       "      <td>2.75</td>\n",
       "      <td>1.6</td>\n",
       "    </tr>\n",
       "    <tr>\n",
       "      <th>2</th>\n",
       "      <td>2000-08-22 15:58:02.270</td>\n",
       "      <td>40.8278</td>\n",
       "      <td>14.1448</td>\n",
       "      <td>2.68</td>\n",
       "      <td>2.2</td>\n",
       "    </tr>\n",
       "    <tr>\n",
       "      <th>3</th>\n",
       "      <td>2000-08-22 17:31:35.540</td>\n",
       "      <td>40.8370</td>\n",
       "      <td>14.1527</td>\n",
       "      <td>0.06</td>\n",
       "      <td>1.9</td>\n",
       "    </tr>\n",
       "    <tr>\n",
       "      <th>4</th>\n",
       "      <td>2000-08-22 18:20:54.530</td>\n",
       "      <td>40.8255</td>\n",
       "      <td>14.1485</td>\n",
       "      <td>2.00</td>\n",
       "      <td>1.4</td>\n",
       "    </tr>\n",
       "  </tbody>\n",
       "</table>\n",
       "</div>"
      ],
      "text/plain": [
       "                     Time  Latitude  Longitude  Depth/km  Magnitude\n",
       "0 2000-08-22 14:17:01.360   40.8258    14.1477      2.17        1.4\n",
       "1 2000-08-22 15:05:56.840   40.8267    14.1487      2.75        1.6\n",
       "2 2000-08-22 15:58:02.270   40.8278    14.1448      2.68        2.2\n",
       "3 2000-08-22 17:31:35.540   40.8370    14.1527      0.06        1.9\n",
       "4 2000-08-22 18:20:54.530   40.8255    14.1485      2.00        1.4"
      ]
     },
     "execution_count": 9,
     "metadata": {},
     "output_type": "execute_result"
    }
   ],
   "source": [
    "df[['Time','Latitude','Longitude','Depth/km','Magnitude']].head()"
   ]
  },
  {
   "cell_type": "markdown",
   "metadata": {},
   "source": [
    "### DOWNLOAD DATAFRAME"
   ]
  },
  {
   "cell_type": "code",
   "execution_count": 10,
   "metadata": {},
   "outputs": [],
   "source": [
    "df.to_excel('clean_data/df_2000_2023.xlsx')"
   ]
  }
 ],
 "metadata": {
  "kernelspec": {
   "display_name": "Python 3",
   "language": "python",
   "name": "python3"
  },
  "language_info": {
   "codemirror_mode": {
    "name": "ipython",
    "version": 3
   },
   "file_extension": ".py",
   "mimetype": "text/x-python",
   "name": "python",
   "nbconvert_exporter": "python",
   "pygments_lexer": "ipython3",
   "version": "3.11.3"
  },
  "orig_nbformat": 4
 },
 "nbformat": 4,
 "nbformat_minor": 2
}
